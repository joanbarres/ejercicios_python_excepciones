{
 "cells": [
  {
   "cell_type": "markdown",
   "metadata": {},
   "source": [
    "#   Exercicis funcions\n",
    "Este repositori conte varios exercicis de python amb les solucions i explicacions de cadascun:\n",
    "[Repositorio](https://github.com/joanbarres/ejercicios_python_excepciones)\n",
    "## Exercici 1\n",
    "### Descripció\n",
    "Crea un programa que accedisca a la posició que l’usuari indique de la següent llista: [6,14,11,3,2,1,15,19].\n",
    "No oblides capturar les excepcions que puguen sorgir en cas que l’usuari introduïsca un índex\n",
    "incorrecte o que no existisca en la llista.\n",
    "\n",
    "### Solució"
   ]
  },
  {
   "cell_type": "code",
   "execution_count": 3,
   "metadata": {},
   "outputs": [
    {
     "name": "stdout",
     "output_type": "stream",
     "text": [
      "Error: Introdueix un valor d'índex vàlid.\n"
     ]
    }
   ],
   "source": [
    "llista = [6, 14, 11, 3, 2, 1, 15, 19]\n",
    "\n",
    "try:\n",
    "    index = int(input(\"Introdueix un índex per accedir a la llista: \"))\n",
    "    valor = llista[index]\n",
    "    print(f\"El valor a la posició {index} és: {valor}\")\n",
    "\n",
    "except IndexError:\n",
    "    print(\"Error: L'índex introduït està fora dels límits de la llista.\")\n",
    "except ValueError:\n",
    "    print(\"Error: Introdueix un valor d'índex vàlid.\")"
   ]
  },
  {
   "cell_type": "markdown",
   "metadata": {},
   "source": [
    "## Exercici 2\n",
    "### Descripció\n",
    "Crea una aplicació reba la clau d’un diccionari i accedisca a un dels seus valors. Assegura’t que captures\n",
    "les excepcions que puguen saltar en intentar accedir a una clau del diccionari inexistent.\n",
    "\n",
    "### Solució"
   ]
  },
  {
   "cell_type": "code",
   "execution_count": null,
   "metadata": {},
   "outputs": [],
   "source": [
    "diccionari = {'1': \"esto\", '2': \"es\", '3': \"python\"}\n",
    "\n",
    "try:\n",
    "    clau = input(\"Introdueix la clau del diccionari: \")\n",
    "    valor = diccionari[clau]\n",
    "    print(f\"El valor associat a la clau '{clau}' és: {valor}\")\n",
    "\n",
    "except KeyError:\n",
    "    print(f\"Error: No s'ha trobat cap valor per a la clau '{clau}'.\")\n",
    "except Exception as e:\n",
    "    print(f\"Error inesperat: {e}\")\n"
   ]
  }
 ],
 "metadata": {
  "kernelspec": {
   "display_name": "nombre_entorno",
   "language": "python",
   "name": "python3"
  },
  "language_info": {
   "codemirror_mode": {
    "name": "ipython",
    "version": 3
   },
   "file_extension": ".py",
   "mimetype": "text/x-python",
   "name": "python",
   "nbconvert_exporter": "python",
   "pygments_lexer": "ipython3",
   "version": "3.11.5"
  }
 },
 "nbformat": 4,
 "nbformat_minor": 2
}
